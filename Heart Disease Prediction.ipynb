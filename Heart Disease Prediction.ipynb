{
 "cells": [
  {
   "cell_type": "code",
   "execution_count": 4,
   "metadata": {},
   "outputs": [],
   "source": [
    "import numpy as np\n",
    "import pandas as pd\n",
    "import matplotlib.pyplot as plt\n",
    "from matplotlib import rcParams\n",
    "from matplotlib.cm import rainbow\n",
    "\n",
    "%matplotlib inline\n",
    "\n",
    "import warnings\n",
    "warnings.filterwarnings('ignore')\n",
    "\n",
    "#Other libraries\n",
    "from sklearn.model_selection import train_test_split\n",
    "from sklearn.preprocessing import StandardScaler\n",
    "\n",
    "#Machine Learning\n",
    "from sklearn.neighbors import KNeighborsClassifier\n",
    "from sklearn.svm import SVC\n",
    "from sklearn.tree import DecisionTreeClassifier\n",
    "from sklearn.ensemble import RandomForestClassifier"
   ]
  },
  {
   "cell_type": "code",
   "execution_count": 5,
   "metadata": {},
   "outputs": [],
   "source": [
    "dataset = pd.read_csv('heart.csv')"
   ]
  },
  {
   "cell_type": "markdown",
   "metadata": {},
   "source": [
    "# data understanding"
   ]
  },
  {
   "cell_type": "code",
   "execution_count": 6,
   "metadata": {},
   "outputs": [
    {
     "data": {
      "text/html": [
       "<div>\n",
       "<style scoped>\n",
       "    .dataframe tbody tr th:only-of-type {\n",
       "        vertical-align: middle;\n",
       "    }\n",
       "\n",
       "    .dataframe tbody tr th {\n",
       "        vertical-align: top;\n",
       "    }\n",
       "\n",
       "    .dataframe thead th {\n",
       "        text-align: right;\n",
       "    }\n",
       "</style>\n",
       "<table border=\"1\" class=\"dataframe\">\n",
       "  <thead>\n",
       "    <tr style=\"text-align: right;\">\n",
       "      <th></th>\n",
       "      <th>age</th>\n",
       "      <th>sex</th>\n",
       "      <th>cp</th>\n",
       "      <th>trestbps</th>\n",
       "      <th>chol</th>\n",
       "      <th>fbs</th>\n",
       "      <th>restecg</th>\n",
       "      <th>thalach</th>\n",
       "      <th>exang</th>\n",
       "      <th>oldpeak</th>\n",
       "      <th>slope</th>\n",
       "      <th>ca</th>\n",
       "      <th>thal</th>\n",
       "      <th>target</th>\n",
       "    </tr>\n",
       "  </thead>\n",
       "  <tbody>\n",
       "    <tr>\n",
       "      <th>0</th>\n",
       "      <td>63</td>\n",
       "      <td>1</td>\n",
       "      <td>3</td>\n",
       "      <td>145</td>\n",
       "      <td>233</td>\n",
       "      <td>1</td>\n",
       "      <td>0</td>\n",
       "      <td>150</td>\n",
       "      <td>0</td>\n",
       "      <td>2.3</td>\n",
       "      <td>0</td>\n",
       "      <td>0</td>\n",
       "      <td>1</td>\n",
       "      <td>1</td>\n",
       "    </tr>\n",
       "    <tr>\n",
       "      <th>1</th>\n",
       "      <td>37</td>\n",
       "      <td>1</td>\n",
       "      <td>2</td>\n",
       "      <td>130</td>\n",
       "      <td>250</td>\n",
       "      <td>0</td>\n",
       "      <td>1</td>\n",
       "      <td>187</td>\n",
       "      <td>0</td>\n",
       "      <td>3.5</td>\n",
       "      <td>0</td>\n",
       "      <td>0</td>\n",
       "      <td>2</td>\n",
       "      <td>1</td>\n",
       "    </tr>\n",
       "    <tr>\n",
       "      <th>2</th>\n",
       "      <td>41</td>\n",
       "      <td>0</td>\n",
       "      <td>1</td>\n",
       "      <td>130</td>\n",
       "      <td>204</td>\n",
       "      <td>0</td>\n",
       "      <td>0</td>\n",
       "      <td>172</td>\n",
       "      <td>0</td>\n",
       "      <td>1.4</td>\n",
       "      <td>2</td>\n",
       "      <td>0</td>\n",
       "      <td>2</td>\n",
       "      <td>1</td>\n",
       "    </tr>\n",
       "    <tr>\n",
       "      <th>3</th>\n",
       "      <td>56</td>\n",
       "      <td>1</td>\n",
       "      <td>1</td>\n",
       "      <td>120</td>\n",
       "      <td>236</td>\n",
       "      <td>0</td>\n",
       "      <td>1</td>\n",
       "      <td>178</td>\n",
       "      <td>0</td>\n",
       "      <td>0.8</td>\n",
       "      <td>2</td>\n",
       "      <td>0</td>\n",
       "      <td>2</td>\n",
       "      <td>1</td>\n",
       "    </tr>\n",
       "    <tr>\n",
       "      <th>4</th>\n",
       "      <td>57</td>\n",
       "      <td>0</td>\n",
       "      <td>0</td>\n",
       "      <td>120</td>\n",
       "      <td>354</td>\n",
       "      <td>0</td>\n",
       "      <td>1</td>\n",
       "      <td>163</td>\n",
       "      <td>1</td>\n",
       "      <td>0.6</td>\n",
       "      <td>2</td>\n",
       "      <td>0</td>\n",
       "      <td>2</td>\n",
       "      <td>1</td>\n",
       "    </tr>\n",
       "  </tbody>\n",
       "</table>\n",
       "</div>"
      ],
      "text/plain": [
       "   age  sex  cp  trestbps  chol  fbs  restecg  thalach  exang  oldpeak  slope  \\\n",
       "0   63    1   3       145   233    1        0      150      0      2.3      0   \n",
       "1   37    1   2       130   250    0        1      187      0      3.5      0   \n",
       "2   41    0   1       130   204    0        0      172      0      1.4      2   \n",
       "3   56    1   1       120   236    0        1      178      0      0.8      2   \n",
       "4   57    0   0       120   354    0        1      163      1      0.6      2   \n",
       "\n",
       "   ca  thal  target  \n",
       "0   0     1       1  \n",
       "1   0     2       1  \n",
       "2   0     2       1  \n",
       "3   0     2       1  \n",
       "4   0     2       1  "
      ]
     },
     "execution_count": 6,
     "metadata": {},
     "output_type": "execute_result"
    }
   ],
   "source": [
    "dataset.head(5)"
   ]
  },
  {
   "cell_type": "code",
   "execution_count": 7,
   "metadata": {},
   "outputs": [
    {
     "data": {
      "text/html": [
       "<div>\n",
       "<style scoped>\n",
       "    .dataframe tbody tr th:only-of-type {\n",
       "        vertical-align: middle;\n",
       "    }\n",
       "\n",
       "    .dataframe tbody tr th {\n",
       "        vertical-align: top;\n",
       "    }\n",
       "\n",
       "    .dataframe thead th {\n",
       "        text-align: right;\n",
       "    }\n",
       "</style>\n",
       "<table border=\"1\" class=\"dataframe\">\n",
       "  <thead>\n",
       "    <tr style=\"text-align: right;\">\n",
       "      <th></th>\n",
       "      <th>age</th>\n",
       "      <th>sex</th>\n",
       "      <th>cp</th>\n",
       "      <th>trestbps</th>\n",
       "      <th>chol</th>\n",
       "      <th>fbs</th>\n",
       "      <th>restecg</th>\n",
       "      <th>thalach</th>\n",
       "      <th>exang</th>\n",
       "      <th>oldpeak</th>\n",
       "      <th>slope</th>\n",
       "      <th>ca</th>\n",
       "      <th>thal</th>\n",
       "      <th>target</th>\n",
       "    </tr>\n",
       "  </thead>\n",
       "  <tbody>\n",
       "    <tr>\n",
       "      <th>298</th>\n",
       "      <td>57</td>\n",
       "      <td>0</td>\n",
       "      <td>0</td>\n",
       "      <td>140</td>\n",
       "      <td>241</td>\n",
       "      <td>0</td>\n",
       "      <td>1</td>\n",
       "      <td>123</td>\n",
       "      <td>1</td>\n",
       "      <td>0.2</td>\n",
       "      <td>1</td>\n",
       "      <td>0</td>\n",
       "      <td>3</td>\n",
       "      <td>0</td>\n",
       "    </tr>\n",
       "    <tr>\n",
       "      <th>299</th>\n",
       "      <td>45</td>\n",
       "      <td>1</td>\n",
       "      <td>3</td>\n",
       "      <td>110</td>\n",
       "      <td>264</td>\n",
       "      <td>0</td>\n",
       "      <td>1</td>\n",
       "      <td>132</td>\n",
       "      <td>0</td>\n",
       "      <td>1.2</td>\n",
       "      <td>1</td>\n",
       "      <td>0</td>\n",
       "      <td>3</td>\n",
       "      <td>0</td>\n",
       "    </tr>\n",
       "    <tr>\n",
       "      <th>300</th>\n",
       "      <td>68</td>\n",
       "      <td>1</td>\n",
       "      <td>0</td>\n",
       "      <td>144</td>\n",
       "      <td>193</td>\n",
       "      <td>1</td>\n",
       "      <td>1</td>\n",
       "      <td>141</td>\n",
       "      <td>0</td>\n",
       "      <td>3.4</td>\n",
       "      <td>1</td>\n",
       "      <td>2</td>\n",
       "      <td>3</td>\n",
       "      <td>0</td>\n",
       "    </tr>\n",
       "    <tr>\n",
       "      <th>301</th>\n",
       "      <td>57</td>\n",
       "      <td>1</td>\n",
       "      <td>0</td>\n",
       "      <td>130</td>\n",
       "      <td>131</td>\n",
       "      <td>0</td>\n",
       "      <td>1</td>\n",
       "      <td>115</td>\n",
       "      <td>1</td>\n",
       "      <td>1.2</td>\n",
       "      <td>1</td>\n",
       "      <td>1</td>\n",
       "      <td>3</td>\n",
       "      <td>0</td>\n",
       "    </tr>\n",
       "    <tr>\n",
       "      <th>302</th>\n",
       "      <td>57</td>\n",
       "      <td>0</td>\n",
       "      <td>1</td>\n",
       "      <td>130</td>\n",
       "      <td>236</td>\n",
       "      <td>0</td>\n",
       "      <td>0</td>\n",
       "      <td>174</td>\n",
       "      <td>0</td>\n",
       "      <td>0.0</td>\n",
       "      <td>1</td>\n",
       "      <td>1</td>\n",
       "      <td>2</td>\n",
       "      <td>0</td>\n",
       "    </tr>\n",
       "  </tbody>\n",
       "</table>\n",
       "</div>"
      ],
      "text/plain": [
       "     age  sex  cp  trestbps  chol  fbs  restecg  thalach  exang  oldpeak  \\\n",
       "298   57    0   0       140   241    0        1      123      1      0.2   \n",
       "299   45    1   3       110   264    0        1      132      0      1.2   \n",
       "300   68    1   0       144   193    1        1      141      0      3.4   \n",
       "301   57    1   0       130   131    0        1      115      1      1.2   \n",
       "302   57    0   1       130   236    0        0      174      0      0.0   \n",
       "\n",
       "     slope  ca  thal  target  \n",
       "298      1   0     3       0  \n",
       "299      1   0     3       0  \n",
       "300      1   2     3       0  \n",
       "301      1   1     3       0  \n",
       "302      1   1     2       0  "
      ]
     },
     "execution_count": 7,
     "metadata": {},
     "output_type": "execute_result"
    }
   ],
   "source": [
    "dataset.tail(5)"
   ]
  },
  {
   "cell_type": "code",
   "execution_count": 12,
   "metadata": {},
   "outputs": [
    {
     "name": "stdout",
     "output_type": "stream",
     "text": [
      "<class 'pandas.core.frame.DataFrame'>\n",
      "RangeIndex: 303 entries, 0 to 302\n",
      "Data columns (total 14 columns):\n",
      "age         303 non-null int64\n",
      "sex         303 non-null int64\n",
      "cp          303 non-null int64\n",
      "trestbps    303 non-null int64\n",
      "chol        303 non-null int64\n",
      "fbs         303 non-null int64\n",
      "restecg     303 non-null int64\n",
      "thalach     303 non-null int64\n",
      "exang       303 non-null int64\n",
      "oldpeak     303 non-null float64\n",
      "slope       303 non-null int64\n",
      "ca          303 non-null int64\n",
      "thal        303 non-null int64\n",
      "target      303 non-null int64\n",
      "dtypes: float64(1), int64(13)\n",
      "memory usage: 33.2 KB\n"
     ]
    }
   ],
   "source": [
    "dataset.info()"
   ]
  },
  {
   "cell_type": "markdown",
   "metadata": {},
   "source": [
    "# As you can see from the output above, there are a total of 13 features and 1 target variable. Also, there are no missing values so we don't need to take care of any null values. Next, I used describe() method."
   ]
  },
  {
   "cell_type": "code",
   "execution_count": 13,
   "metadata": {},
   "outputs": [
    {
     "data": {
      "text/html": [
       "<div>\n",
       "<style scoped>\n",
       "    .dataframe tbody tr th:only-of-type {\n",
       "        vertical-align: middle;\n",
       "    }\n",
       "\n",
       "    .dataframe tbody tr th {\n",
       "        vertical-align: top;\n",
       "    }\n",
       "\n",
       "    .dataframe thead th {\n",
       "        text-align: right;\n",
       "    }\n",
       "</style>\n",
       "<table border=\"1\" class=\"dataframe\">\n",
       "  <thead>\n",
       "    <tr style=\"text-align: right;\">\n",
       "      <th></th>\n",
       "      <th>age</th>\n",
       "      <th>sex</th>\n",
       "      <th>cp</th>\n",
       "      <th>trestbps</th>\n",
       "      <th>chol</th>\n",
       "      <th>fbs</th>\n",
       "      <th>restecg</th>\n",
       "      <th>thalach</th>\n",
       "      <th>exang</th>\n",
       "      <th>oldpeak</th>\n",
       "      <th>slope</th>\n",
       "      <th>ca</th>\n",
       "      <th>thal</th>\n",
       "      <th>target</th>\n",
       "    </tr>\n",
       "  </thead>\n",
       "  <tbody>\n",
       "    <tr>\n",
       "      <th>count</th>\n",
       "      <td>303.000000</td>\n",
       "      <td>303.000000</td>\n",
       "      <td>303.000000</td>\n",
       "      <td>303.000000</td>\n",
       "      <td>303.000000</td>\n",
       "      <td>303.000000</td>\n",
       "      <td>303.000000</td>\n",
       "      <td>303.000000</td>\n",
       "      <td>303.000000</td>\n",
       "      <td>303.000000</td>\n",
       "      <td>303.000000</td>\n",
       "      <td>303.000000</td>\n",
       "      <td>303.000000</td>\n",
       "      <td>303.000000</td>\n",
       "    </tr>\n",
       "    <tr>\n",
       "      <th>mean</th>\n",
       "      <td>54.366337</td>\n",
       "      <td>0.683168</td>\n",
       "      <td>0.966997</td>\n",
       "      <td>131.623762</td>\n",
       "      <td>246.264026</td>\n",
       "      <td>0.148515</td>\n",
       "      <td>0.528053</td>\n",
       "      <td>149.646865</td>\n",
       "      <td>0.326733</td>\n",
       "      <td>1.039604</td>\n",
       "      <td>1.399340</td>\n",
       "      <td>0.729373</td>\n",
       "      <td>2.313531</td>\n",
       "      <td>0.544554</td>\n",
       "    </tr>\n",
       "    <tr>\n",
       "      <th>std</th>\n",
       "      <td>9.082101</td>\n",
       "      <td>0.466011</td>\n",
       "      <td>1.032052</td>\n",
       "      <td>17.538143</td>\n",
       "      <td>51.830751</td>\n",
       "      <td>0.356198</td>\n",
       "      <td>0.525860</td>\n",
       "      <td>22.905161</td>\n",
       "      <td>0.469794</td>\n",
       "      <td>1.161075</td>\n",
       "      <td>0.616226</td>\n",
       "      <td>1.022606</td>\n",
       "      <td>0.612277</td>\n",
       "      <td>0.498835</td>\n",
       "    </tr>\n",
       "    <tr>\n",
       "      <th>min</th>\n",
       "      <td>29.000000</td>\n",
       "      <td>0.000000</td>\n",
       "      <td>0.000000</td>\n",
       "      <td>94.000000</td>\n",
       "      <td>126.000000</td>\n",
       "      <td>0.000000</td>\n",
       "      <td>0.000000</td>\n",
       "      <td>71.000000</td>\n",
       "      <td>0.000000</td>\n",
       "      <td>0.000000</td>\n",
       "      <td>0.000000</td>\n",
       "      <td>0.000000</td>\n",
       "      <td>0.000000</td>\n",
       "      <td>0.000000</td>\n",
       "    </tr>\n",
       "    <tr>\n",
       "      <th>25%</th>\n",
       "      <td>47.500000</td>\n",
       "      <td>0.000000</td>\n",
       "      <td>0.000000</td>\n",
       "      <td>120.000000</td>\n",
       "      <td>211.000000</td>\n",
       "      <td>0.000000</td>\n",
       "      <td>0.000000</td>\n",
       "      <td>133.500000</td>\n",
       "      <td>0.000000</td>\n",
       "      <td>0.000000</td>\n",
       "      <td>1.000000</td>\n",
       "      <td>0.000000</td>\n",
       "      <td>2.000000</td>\n",
       "      <td>0.000000</td>\n",
       "    </tr>\n",
       "    <tr>\n",
       "      <th>50%</th>\n",
       "      <td>55.000000</td>\n",
       "      <td>1.000000</td>\n",
       "      <td>1.000000</td>\n",
       "      <td>130.000000</td>\n",
       "      <td>240.000000</td>\n",
       "      <td>0.000000</td>\n",
       "      <td>1.000000</td>\n",
       "      <td>153.000000</td>\n",
       "      <td>0.000000</td>\n",
       "      <td>0.800000</td>\n",
       "      <td>1.000000</td>\n",
       "      <td>0.000000</td>\n",
       "      <td>2.000000</td>\n",
       "      <td>1.000000</td>\n",
       "    </tr>\n",
       "    <tr>\n",
       "      <th>75%</th>\n",
       "      <td>61.000000</td>\n",
       "      <td>1.000000</td>\n",
       "      <td>2.000000</td>\n",
       "      <td>140.000000</td>\n",
       "      <td>274.500000</td>\n",
       "      <td>0.000000</td>\n",
       "      <td>1.000000</td>\n",
       "      <td>166.000000</td>\n",
       "      <td>1.000000</td>\n",
       "      <td>1.600000</td>\n",
       "      <td>2.000000</td>\n",
       "      <td>1.000000</td>\n",
       "      <td>3.000000</td>\n",
       "      <td>1.000000</td>\n",
       "    </tr>\n",
       "    <tr>\n",
       "      <th>max</th>\n",
       "      <td>77.000000</td>\n",
       "      <td>1.000000</td>\n",
       "      <td>3.000000</td>\n",
       "      <td>200.000000</td>\n",
       "      <td>564.000000</td>\n",
       "      <td>1.000000</td>\n",
       "      <td>2.000000</td>\n",
       "      <td>202.000000</td>\n",
       "      <td>1.000000</td>\n",
       "      <td>6.200000</td>\n",
       "      <td>2.000000</td>\n",
       "      <td>4.000000</td>\n",
       "      <td>3.000000</td>\n",
       "      <td>1.000000</td>\n",
       "    </tr>\n",
       "  </tbody>\n",
       "</table>\n",
       "</div>"
      ],
      "text/plain": [
       "              age         sex          cp    trestbps        chol         fbs  \\\n",
       "count  303.000000  303.000000  303.000000  303.000000  303.000000  303.000000   \n",
       "mean    54.366337    0.683168    0.966997  131.623762  246.264026    0.148515   \n",
       "std      9.082101    0.466011    1.032052   17.538143   51.830751    0.356198   \n",
       "min     29.000000    0.000000    0.000000   94.000000  126.000000    0.000000   \n",
       "25%     47.500000    0.000000    0.000000  120.000000  211.000000    0.000000   \n",
       "50%     55.000000    1.000000    1.000000  130.000000  240.000000    0.000000   \n",
       "75%     61.000000    1.000000    2.000000  140.000000  274.500000    0.000000   \n",
       "max     77.000000    1.000000    3.000000  200.000000  564.000000    1.000000   \n",
       "\n",
       "          restecg     thalach       exang     oldpeak       slope          ca  \\\n",
       "count  303.000000  303.000000  303.000000  303.000000  303.000000  303.000000   \n",
       "mean     0.528053  149.646865    0.326733    1.039604    1.399340    0.729373   \n",
       "std      0.525860   22.905161    0.469794    1.161075    0.616226    1.022606   \n",
       "min      0.000000   71.000000    0.000000    0.000000    0.000000    0.000000   \n",
       "25%      0.000000  133.500000    0.000000    0.000000    1.000000    0.000000   \n",
       "50%      1.000000  153.000000    0.000000    0.800000    1.000000    0.000000   \n",
       "75%      1.000000  166.000000    1.000000    1.600000    2.000000    1.000000   \n",
       "max      2.000000  202.000000    1.000000    6.200000    2.000000    4.000000   \n",
       "\n",
       "             thal      target  \n",
       "count  303.000000  303.000000  \n",
       "mean     2.313531    0.544554  \n",
       "std      0.612277    0.498835  \n",
       "min      0.000000    0.000000  \n",
       "25%      2.000000    0.000000  \n",
       "50%      2.000000    1.000000  \n",
       "75%      3.000000    1.000000  \n",
       "max      3.000000    1.000000  "
      ]
     },
     "execution_count": 13,
     "metadata": {},
     "output_type": "execute_result"
    }
   ],
   "source": [
    "dataset.describe()"
   ]
  },
  {
   "cell_type": "markdown",
   "metadata": {},
   "source": [
    "# The method revealed that the range of each variable is different. The maximum valu of age is 77 but for chol is 564. Thus,  feature scaling must be performed on the dataset."
   ]
  },
  {
   "cell_type": "markdown",
   "metadata": {},
   "source": [
    "# Correlation Matrix"
   ]
  },
  {
   "cell_type": "code",
   "execution_count": 15,
   "metadata": {
    "scrolled": true
   },
   "outputs": [
    {
     "data": {
      "text/plain": [
       "\"To begin with, let's see the correlation matrix matrix of  features and try to analyze it. The figure size is defined to 12 x 8 by using rcParams. \\nThen I, used pyplot to show the correlation matrix. \\nUsing xticks and yticks, I've added names to the correlation matrix, colbar() shows the colobar forr the matrix.\""
      ]
     },
     "execution_count": 15,
     "metadata": {},
     "output_type": "execute_result"
    }
   ],
   "source": [
    "\"\"\"To begin with, let's see the correlation matrix matrix of  features and try to analyze it. The figure size is defined to 12 x 8 by using rcParams. \n",
    "Then I, used pyplot to show the correlation matrix. \n",
    "Using xticks and yticks, I've added names to the correlation matrix, colbar() shows the colobar forr the matrix.\"\"\""
   ]
  },
  {
   "cell_type": "code",
   "execution_count": 17,
   "metadata": {},
   "outputs": [
    {
     "data": {
      "text/plain": [
       "<matplotlib.colorbar.Colorbar at 0x1dae82e1f98>"
      ]
     },
     "execution_count": 17,
     "metadata": {},
     "output_type": "execute_result"
    },
    {
     "data": {
      "image/png": "[encoded data removed]",
      "text/plain": [
       "<Figure size 1008x1008 with 2 Axes>"
      ]
     },
     "metadata": {
      "needs_background": "light"
     },
     "output_type": "display_data"
    }
   ],
   "source": [
    "rcParams['figure.figsize'] = 20,14\n",
    "plt.matshow(dataset.corr())\n",
    "plt.yticks(np.arange(dataset.shape[1]), dataset.columns)\n",
    "plt.xticks(np.arange(dataset.shape[1]), dataset.columns)\n",
    "plt.colorbar()"
   ]
  },
  {
   "cell_type": "markdown",
   "metadata": {},
   "source": [
    "# Histogram"
   ]
  },
  {
   "cell_type": "code",
   "execution_count": 18,
   "metadata": {},
   "outputs": [
    {
     "data": {
      "text/plain": [
       "array([[<matplotlib.axes._subplots.AxesSubplot object at 0x000001DAE8022898>,\n",
       "        <matplotlib.axes._subplots.AxesSubplot object at 0x000001DAE83910F0>,\n",
       "        <matplotlib.axes._subplots.AxesSubplot object at 0x000001DAE7DC4400>,\n",
       "        <matplotlib.axes._subplots.AxesSubplot object at 0x000001DAE7E3E710>],\n",
       "       [<matplotlib.axes._subplots.AxesSubplot object at 0x000001DAE7E7AA20>,\n",
       "        <matplotlib.axes._subplots.AxesSubplot object at 0x000001DAE7E7AA58>,\n",
       "        <matplotlib.axes._subplots.AxesSubplot object at 0x000001DAE7F4D080>,\n",
       "        <matplotlib.axes._subplots.AxesSubplot object at 0x000001DAE7FCD390>],\n",
       "       [<matplotlib.axes._subplots.AxesSubplot object at 0x000001DAE646E390>,\n",
       "        <matplotlib.axes._subplots.AxesSubplot object at 0x000001DAE70A1BE0>,\n",
       "        <matplotlib.axes._subplots.AxesSubplot object at 0x000001DAE7B458D0>,\n",
       "        <matplotlib.axes._subplots.AxesSubplot object at 0x000001DAE72FDE48>],\n",
       "       [<matplotlib.axes._subplots.AxesSubplot object at 0x000001DAE743DF98>,\n",
       "        <matplotlib.axes._subplots.AxesSubplot object at 0x000001DAE73939B0>,\n",
       "        <matplotlib.axes._subplots.AxesSubplot object at 0x000001DAE6B148D0>,\n",
       "        <matplotlib.axes._subplots.AxesSubplot object at 0x000001DAE69ADE10>]],\n",
       "      dtype=object)"
      ]
     },
     "execution_count": 18,
     "metadata": {},
     "output_type": "execute_result"
    },
    {
     "data": {
      "image/png": "[encoded data removed]",
      "text/plain": [
       "<Figure size 1440x1008 with 16 Axes>"
      ]
     },
     "metadata": {
      "needs_background": "light"
     },
     "output_type": "display_data"
    }
   ],
   "source": [
    "dataset.hist()"
   ]
  },
  {
   "cell_type": "code",
   "execution_count": null,
   "metadata": {},
   "outputs": [],
   "source": []
  },
  {
   "cell_type": "code",
   "execution_count": 19,
   "metadata": {},
   "outputs": [
    {
     "data": {
      "text/plain": [
       "Text(0.5,1,'Count of each Target Classes')"
      ]
     },
     "execution_count": 19,
     "metadata": {},
     "output_type": "execute_result"
    },
    {
     "data": {
      "image/png": "[encoded data removed]",
      "text/plain": [
       "<Figure size 576x432 with 1 Axes>"
      ]
     },
     "metadata": {
      "needs_background": "light"
     },
     "output_type": "display_data"
    }
   ],
   "source": [
    "rcParams['figure.figsize'] = 8,6\n",
    "plt.bar(dataset['target'].unique(), dataset['target'].value_counts(), color = ['red', 'green'])\n",
    "plt.xticks([0,1])\n",
    "plt.xlabel('Target Classes')\n",
    "plt.ylabel('Count')\n",
    "plt.title('Count of each Target Classes')"
   ]
  },
  {
   "cell_type": "code",
   "execution_count": 22,
   "metadata": {},
   "outputs": [],
   "source": [
    "dataset = pd.get_dummies(dataset, columns = ['sex', 'cp','fbs','restecg','exang','slope','ca','thal'])"
   ]
  },
  {
   "cell_type": "code",
   "execution_count": 23,
   "metadata": {},
   "outputs": [
    {
     "name": "stdout",
     "output_type": "stream",
     "text": [
      "     age  trestbps  chol  thalach  oldpeak  target  sex_0  sex_1  cp_0  cp_1  \\\n",
      "0     63       145   233      150      2.3       1      0      1     0     0   \n",
      "1     37       130   250      187      3.5       1      0      1     0     0   \n",
      "2     41       130   204      172      1.4       1      1      0     0     1   \n",
      "3     56       120   236      178      0.8       1      0      1     0     1   \n",
      "4     57       120   354      163      0.6       1      1      0     1     0   \n",
      "5     57       140   192      148      0.4       1      0      1     1     0   \n",
      "6     56       140   294      153      1.3       1      1      0     0     1   \n",
      "7     44       120   263      173      0.0       1      0      1     0     1   \n",
      "8     52       172   199      162      0.5       1      0      1     0     0   \n",
      "9     57       150   168      174      1.6       1      0      1     0     0   \n",
      "10    54       140   239      160      1.2       1      0      1     1     0   \n",
      "11    48       130   275      139      0.2       1      1      0     0     0   \n",
      "12    49       130   266      171      0.6       1      0      1     0     1   \n",
      "13    64       110   211      144      1.8       1      0      1     0     0   \n",
      "14    58       150   283      162      1.0       1      1      0     0     0   \n",
      "15    50       120   219      158      1.6       1      1      0     0     0   \n",
      "16    58       120   340      172      0.0       1      1      0     0     0   \n",
      "17    66       150   226      114      2.6       1      1      0     0     0   \n",
      "18    43       150   247      171      1.5       1      0      1     1     0   \n",
      "19    69       140   239      151      1.8       1      1      0     0     0   \n",
      "20    59       135   234      161      0.5       1      0      1     1     0   \n",
      "21    44       130   233      179      0.4       1      0      1     0     0   \n",
      "22    42       140   226      178      0.0       1      0      1     1     0   \n",
      "23    61       150   243      137      1.0       1      0      1     0     0   \n",
      "24    40       140   199      178      1.4       1      0      1     0     0   \n",
      "25    71       160   302      162      0.4       1      1      0     0     1   \n",
      "26    59       150   212      157      1.6       1      0      1     0     0   \n",
      "27    51       110   175      123      0.6       1      0      1     0     0   \n",
      "28    65       140   417      157      0.8       1      1      0     0     0   \n",
      "29    53       130   197      152      1.2       1      0      1     0     0   \n",
      "..   ...       ...   ...      ...      ...     ...    ...    ...   ...   ...   \n",
      "273   58       100   234      156      0.1       0      0      1     1     0   \n",
      "274   47       110   275      118      1.0       0      0      1     1     0   \n",
      "275   52       125   212      168      1.0       0      0      1     1     0   \n",
      "276   58       146   218      105      2.0       0      0      1     1     0   \n",
      "277   57       124   261      141      0.3       0      0      1     0     1   \n",
      "278   58       136   319      152      0.0       0      1      0     0     1   \n",
      "279   61       138   166      125      3.6       0      0      1     1     0   \n",
      "280   42       136   315      125      1.8       0      0      1     1     0   \n",
      "281   52       128   204      156      1.0       0      0      1     1     0   \n",
      "282   59       126   218      134      2.2       0      0      1     0     0   \n",
      "283   40       152   223      181      0.0       0      0      1     1     0   \n",
      "284   61       140   207      138      1.9       0      0      1     1     0   \n",
      "285   46       140   311      120      1.8       0      0      1     1     0   \n",
      "286   59       134   204      162      0.8       0      0      1     0     0   \n",
      "287   57       154   232      164      0.0       0      0      1     0     1   \n",
      "288   57       110   335      143      3.0       0      0      1     1     0   \n",
      "289   55       128   205      130      2.0       0      1      0     1     0   \n",
      "290   61       148   203      161      0.0       0      0      1     1     0   \n",
      "291   58       114   318      140      4.4       0      0      1     1     0   \n",
      "292   58       170   225      146      2.8       0      1      0     1     0   \n",
      "293   67       152   212      150      0.8       0      0      1     0     0   \n",
      "294   44       120   169      144      2.8       0      0      1     1     0   \n",
      "295   63       140   187      144      4.0       0      0      1     1     0   \n",
      "296   63       124   197      136      0.0       0      1      0     1     0   \n",
      "297   59       164   176       90      1.0       0      0      1     1     0   \n",
      "298   57       140   241      123      0.2       0      1      0     1     0   \n",
      "299   45       110   264      132      1.2       0      0      1     0     0   \n",
      "300   68       144   193      141      3.4       0      0      1     1     0   \n",
      "301   57       130   131      115      1.2       0      0      1     1     0   \n",
      "302   57       130   236      174      0.0       0      1      0     0     1   \n",
      "\n",
      "     ...  slope_2  ca_0  ca_1  ca_2  ca_3  ca_4  thal_0  thal_1  thal_2  \\\n",
      "0    ...        0     1     0     0     0     0       0       1       0   \n",
      "1    ...        0     1     0     0     0     0       0       0       1   \n",
      "2    ...        1     1     0     0     0     0       0       0       1   \n",
      "3    ...        1     1     0     0     0     0       0       0       1   \n",
      "4    ...        1     1     0     0     0     0       0       0       1   \n",
      "5    ...        0     1     0     0     0     0       0       1       0   \n",
      "6    ...        0     1     0     0     0     0       0       0       1   \n",
      "7    ...        1     1     0     0     0     0       0       0       0   \n",
      "8    ...        1     1     0     0     0     0       0       0       0   \n",
      "9    ...        1     1     0     0     0     0       0       0       1   \n",
      "10   ...        1     1     0     0     0     0       0       0       1   \n",
      "11   ...        1     1     0     0     0     0       0       0       1   \n",
      "12   ...        1     1     0     0     0     0       0       0       1   \n",
      "13   ...        0     1     0     0     0     0       0       0       1   \n",
      "14   ...        1     1     0     0     0     0       0       0       1   \n",
      "15   ...        0     1     0     0     0     0       0       0       1   \n",
      "16   ...        1     1     0     0     0     0       0       0       1   \n",
      "17   ...        0     1     0     0     0     0       0       0       1   \n",
      "18   ...        1     1     0     0     0     0       0       0       1   \n",
      "19   ...        1     0     0     1     0     0       0       0       1   \n",
      "20   ...        0     1     0     0     0     0       0       0       0   \n",
      "21   ...        1     1     0     0     0     0       0       0       1   \n",
      "22   ...        1     1     0     0     0     0       0       0       1   \n",
      "23   ...        0     1     0     0     0     0       0       0       1   \n",
      "24   ...        1     1     0     0     0     0       0       0       0   \n",
      "25   ...        1     0     0     1     0     0       0       0       1   \n",
      "26   ...        1     1     0     0     0     0       0       0       1   \n",
      "27   ...        1     1     0     0     0     0       0       0       1   \n",
      "28   ...        1     0     1     0     0     0       0       0       1   \n",
      "29   ...        0     1     0     0     0     0       0       0       1   \n",
      "..   ...      ...   ...   ...   ...   ...   ...     ...     ...     ...   \n",
      "273  ...        1     0     1     0     0     0       0       0       0   \n",
      "274  ...        0     0     1     0     0     0       0       0       1   \n",
      "275  ...        1     0     0     1     0     0       0       0       0   \n",
      "276  ...        0     0     1     0     0     0       0       0       0   \n",
      "277  ...        1     1     0     0     0     0       0       0       0   \n",
      "278  ...        1     0     0     1     0     0       0       0       1   \n",
      "279  ...        0     0     1     0     0     0       0       0       1   \n",
      "280  ...        0     1     0     0     0     0       0       1       0   \n",
      "281  ...        0     1     0     0     0     0       1       0       0   \n",
      "282  ...        0     0     1     0     0     0       0       1       0   \n",
      "283  ...        1     1     0     0     0     0       0       0       0   \n",
      "284  ...        1     0     1     0     0     0       0       0       0   \n",
      "285  ...        0     0     0     1     0     0       0       0       0   \n",
      "286  ...        1     0     0     1     0     0       0       0       1   \n",
      "287  ...        1     0     1     0     0     0       0       0       1   \n",
      "288  ...        0     0     1     0     0     0       0       0       0   \n",
      "289  ...        0     0     1     0     0     0       0       0       0   \n",
      "290  ...        1     0     1     0     0     0       0       0       0   \n",
      "291  ...        0     0     0     0     1     0       0       1       0   \n",
      "292  ...        0     0     0     1     0     0       0       1       0   \n",
      "293  ...        0     1     0     0     0     0       0       0       0   \n",
      "294  ...        0     1     0     0     0     0       0       1       0   \n",
      "295  ...        1     0     0     1     0     0       0       0       0   \n",
      "296  ...        0     1     0     0     0     0       0       0       1   \n",
      "297  ...        0     0     0     1     0     0       0       1       0   \n",
      "298  ...        0     1     0     0     0     0       0       0       0   \n",
      "299  ...        0     1     0     0     0     0       0       0       0   \n",
      "300  ...        0     0     0     1     0     0       0       0       0   \n",
      "301  ...        0     0     1     0     0     0       0       0       0   \n",
      "302  ...        0     0     1     0     0     0       0       0       1   \n",
      "\n",
      "     thal_3  \n",
      "0         0  \n",
      "1         0  \n",
      "2         0  \n",
      "3         0  \n",
      "4         0  \n",
      "5         0  \n",
      "6         0  \n",
      "7         1  \n",
      "8         1  \n",
      "9         0  \n",
      "10        0  \n",
      "11        0  \n",
      "12        0  \n",
      "13        0  \n",
      "14        0  \n",
      "15        0  \n",
      "16        0  \n",
      "17        0  \n",
      "18        0  \n",
      "19        0  \n",
      "20        1  \n",
      "21        0  \n",
      "22        0  \n",
      "23        0  \n",
      "24        1  \n",
      "25        0  \n",
      "26        0  \n",
      "27        0  \n",
      "28        0  \n",
      "29        0  \n",
      "..      ...  \n",
      "273       1  \n",
      "274       0  \n",
      "275       1  \n",
      "276       1  \n",
      "277       1  \n",
      "278       0  \n",
      "279       0  \n",
      "280       0  \n",
      "281       0  \n",
      "282       0  \n",
      "283       1  \n",
      "284       1  \n",
      "285       1  \n",
      "286       0  \n",
      "287       0  \n",
      "288       1  \n",
      "289       1  \n",
      "290       1  \n",
      "291       0  \n",
      "292       0  \n",
      "293       1  \n",
      "294       0  \n",
      "295       1  \n",
      "296       0  \n",
      "297       0  \n",
      "298       1  \n",
      "299       1  \n",
      "300       1  \n",
      "301       1  \n",
      "302       0  \n",
      "\n",
      "[303 rows x 31 columns]\n"
     ]
    }
   ],
   "source": [
    "print(dataset)"
   ]
  },
  {
   "cell_type": "code",
   "execution_count": 24,
   "metadata": {},
   "outputs": [],
   "source": [
    "standardScaler = StandardScaler()\n",
    "columns_to_scale = ['age', 'trestbps', 'chol', 'thalach', 'oldpeak']\n",
    "dataset[columns_to_scale] = standardScaler.fit_transform(dataset[columns_to_scale])\n"
   ]
  },
  {
   "cell_type": "code",
   "execution_count": 27,
   "metadata": {},
   "outputs": [
    {
     "data": {
      "text/plain": [
       "Index(['age', 'trestbps', 'chol', 'thalach', 'oldpeak', 'target', 'sex_0',\n",
       "       'sex_1', 'cp_0', 'cp_1', 'cp_2', 'cp_3', 'fbs_0', 'fbs_1', 'restecg_0',\n",
       "       'restecg_1', 'restecg_2', 'exang_0', 'exang_1', 'slope_0', 'slope_1',\n",
       "       'slope_2', 'ca_0', 'ca_1', 'ca_2', 'ca_3', 'ca_4', 'thal_0', 'thal_1',\n",
       "       'thal_2', 'thal_3'],\n",
       "      dtype='object')"
      ]
     },
     "execution_count": 27,
     "metadata": {},
     "output_type": "execute_result"
    }
   ],
   "source": [
    "dataset.columns"
   ]
  },
  {
   "cell_type": "code",
   "execution_count": 28,
   "metadata": {},
   "outputs": [
    {
     "ename": "TypeError",
     "evalue": "'DataFrame' object is not callable",
     "output_type": "error",
     "traceback": [
      "\u001b[1;31m---------------------------------------------------------------------------\u001b[0m",
      "\u001b[1;31mTypeError\u001b[0m                                 Traceback (most recent call last)",
      "\u001b[1;32m<ipython-input-28-aa2329a7df81>\u001b[0m in \u001b[0;36m<module>\u001b[1;34m\u001b[0m\n\u001b[1;32m----> 1\u001b[1;33m \u001b[0mdataset\u001b[0m\u001b[1;33m(\u001b[0m\u001b[1;34m'age'\u001b[0m\u001b[1;33m)\u001b[0m\u001b[1;33m\u001b[0m\u001b[1;33m\u001b[0m\u001b[0m\n\u001b[0m",
      "\u001b[1;31mTypeError\u001b[0m: 'DataFrame' object is not callable"
     ]
    }
   ],
   "source": []
  },
  {
   "cell_type": "markdown",
   "metadata": {},
   "source": [
    "# I'll now import train_test_split to split"
   ]
  },
  {
   "cell_type": "code",
   "execution_count": 29,
   "metadata": {},
   "outputs": [
    {
     "data": {
      "text/plain": [
       "<function sklearn.model_selection._split.train_test_split(*arrays, **options)>"
      ]
     },
     "execution_count": 29,
     "metadata": {},
     "output_type": "execute_result"
    }
   ],
   "source": [
    "y = dataset['target']\n",
    "X = dataset.drop(['target'], axis = 1)\n",
    "train_test_split"
   ]
  },
  {
   "cell_type": "code",
   "execution_count": 30,
   "metadata": {},
   "outputs": [
    {
     "data": {
      "text/plain": [
       "<function sklearn.model_selection._split.train_test_split(*arrays, **options)>"
      ]
     },
     "execution_count": 30,
     "metadata": {},
     "output_type": "execute_result"
    }
   ],
   "source": [
    "train_test_split"
   ]
  },
  {
   "cell_type": "code",
   "execution_count": 31,
   "metadata": {},
   "outputs": [],
   "source": [
    "X_train, X_test, y_train, y_test = train_test_split(X, y, test_size=0.33, random_state=0)"
   ]
  },
  {
   "cell_type": "code",
   "execution_count": 34,
   "metadata": {},
   "outputs": [
    {
     "name": "stdout",
     "output_type": "stream",
     "text": [
      "          age  trestbps      chol   thalach   oldpeak  sex_0  sex_1  cp_0  \\\n",
      "225  1.724218  0.763956 -1.396537 -1.077820  1.346147      0      1     1   \n",
      "152  1.062485  2.191778 -0.372287  0.234095 -0.379244      0      1     0   \n",
      "228  0.511041  2.191778  0.806568  0.409017 -0.724323      0      1     0   \n",
      "201  0.621330 -0.378302  0.226803 -0.378132  1.518686      0      1     1   \n",
      "52   0.841908 -0.092738 -0.294985 -0.159479  0.655990      0      1     0   \n",
      "245 -0.702136 -0.435415  0.536011  0.715131 -0.465514      0      1     1   \n",
      "175 -1.584446 -1.234996 -1.531816 -1.558855  0.828529      0      1     1   \n",
      "168  0.952197 -0.092738  0.149501 -0.115749  0.310912      0      1     1   \n",
      "223  0.180175  3.905165  0.806568 -0.727976  2.553921      1      0     1   \n",
      "217  0.952197 -0.092738  1.618238 -0.771706  0.655990      0      1     1   \n",
      "111  0.290464  1.049520 -2.324160  1.021244 -0.724323      0      1     0   \n",
      "135 -0.591847 -0.092738  0.439384  0.583939 -0.896862      1      0     1   \n",
      "218  1.172774  0.192827  0.149501 -0.990359  1.518686      0      1     1   \n",
      "12  -0.591847 -0.092738  0.381407  0.933783 -0.379244      0      1     0   \n",
      "15  -0.481558 -0.663867 -0.526890  0.365287  0.483451      1      0     0   \n",
      "66  -0.371269 -1.806125 -0.468914 -0.290671  0.138373      0      1     0   \n",
      "97  -0.260980 -1.349222 -0.256334 -0.115749 -0.810592      0      1     1   \n",
      "90  -0.702136 -0.435415  0.168827  1.108705 -0.896862      0      1     0   \n",
      "198  0.841908 -0.663867  0.400733 -2.214813  0.655990      0      1     1   \n",
      "103 -1.363869 -0.663867 -0.121055  1.939585 -0.206705      0      1     0   \n",
      "22  -1.363869  0.478391 -0.391612  1.239897 -0.896862      0      1     1   \n",
      "212 -1.694735 -0.778093 -0.526890 -0.421862  0.138373      0      1     1   \n",
      "226  0.841908 -0.663867  0.671289 -2.039891  0.310912      0      1     0   \n",
      "264 -0.040403 -1.234996 -0.778122 -1.821238 -0.896862      0      1     1   \n",
      "133 -1.474158 -1.234996 -0.217683  0.146634 -0.896862      0      1     0   \n",
      "216  0.841908 -0.092738  0.323431 -2.302274  0.138373      1      0     0   \n",
      "275 -0.260980 -0.378302 -0.662169  0.802592 -0.034166      0      1     1   \n",
      "270 -0.922713 -0.663867  0.052874 -0.246940 -0.206705      0      1     1   \n",
      "154 -1.694735  0.364165 -0.507565  0.102904 -0.896862      1      0     0   \n",
      "55  -0.260980  0.135714 -0.874749  0.365287 -0.206705      0      1     0   \n",
      "..        ...       ...       ...       ...       ...    ...    ...   ...   \n",
      "20   0.511041  0.192827 -0.237008  0.496478 -0.465514      0      1     1   \n",
      "46  -1.143291  0.478391 -0.217683  1.327358 -0.896862      0      1     0   \n",
      "160  0.180175 -0.663867 -0.121055  0.846322 -0.896862      0      1     0   \n",
      "232  0.069886  1.620649  0.825893 -0.203210 -0.206705      0      1     1   \n",
      "181  1.172774  1.049520 -0.410938 -1.558855 -0.034166      1      0     1   \n",
      "27  -0.371269 -1.234996 -1.377212 -1.165281 -0.379244      0      1     0   \n",
      "173  0.400752  0.021488 -0.430263  1.021244  1.863764      0      1     0   \n",
      "261 -0.260980 -1.120770 -0.314310  0.452748 -0.896862      0      1     1   \n",
      "37  -0.040403  1.049520 -0.275659  0.671400  0.483451      0      1     0   \n",
      "101  0.511041  2.648682  0.458709 -0.203210  2.726460      0      1     0   \n",
      "166  1.393352 -0.663867 -0.333636 -0.902898  1.346147      0      1     1   \n",
      "233  1.062485 -0.663867 -0.005102 -2.346004  1.001069      0      1     1   \n",
      "184 -0.481558  1.049520 -0.063079 -0.946628  1.346147      0      1     1   \n",
      "164 -1.805024  0.364165 -1.377212  1.021244 -0.896862      0      1     0   \n",
      "206  0.511041 -1.234996 -0.140381 -0.334401  0.138373      0      1     1   \n",
      "248 -0.040403  3.448262  0.709940  1.983316 -0.896862      0      1     0   \n",
      "253  1.393352 -1.806125  1.019148 -1.077820 -0.120436      0      1     1   \n",
      "293  1.393352  1.163746 -0.662169  0.015443 -0.206705      0      1     0   \n",
      "76  -0.371269 -0.378302 -0.024428  0.715131  1.173608      0      1     0   \n",
      "272  1.393352 -0.663867 -0.179032 -3.439267 -0.034166      0      1     1   \n",
      "238  2.496240 -0.378302  1.115776  0.540209 -0.896862      0      1     1   \n",
      "137  0.841908 -0.206964 -0.739471 -0.421862 -0.896862      0      1     0   \n",
      "106  1.613930  1.620649 -0.237008 -0.815437 -0.810592      0      1     0   \n",
      "284  0.731619  0.478391 -0.758796 -0.509323  0.742260      0      1     1   \n",
      "44  -1.694735  0.478391  1.444309  1.414819 -0.896862      0      1     0   \n",
      "139  1.062485 -0.206964  0.323431 -1.952430 -0.724323      0      1     1   \n",
      "247  1.283063  1.620649 -0.005102 -1.296472 -0.896862      0      1     0   \n",
      "288  0.290464 -1.234996  1.714865 -0.290671  1.691225      0      1     1   \n",
      "156 -0.812425 -0.092738  0.130176  1.283627 -0.896862      0      1     0   \n",
      "297  0.511041  1.849101 -1.357886 -2.608388 -0.034166      0      1     1   \n",
      "\n",
      "     cp_1  cp_2  ...  slope_2  ca_0  ca_1  ca_2  ca_3  ca_4  thal_0  thal_1  \\\n",
      "225     0     0  ...        0     1     0     0     0     0       0       0   \n",
      "152     0     0  ...        0     1     0     0     0     0       0       0   \n",
      "228     0     0  ...        0     1     0     0     0     0       0       0   \n",
      "201     0     0  ...        0     0     1     0     0     0       0       0   \n",
      "52      0     1  ...        0     0     0     0     1     0       0       0   \n",
      "245     0     0  ...        0     1     0     0     0     0       0       0   \n",
      "175     0     0  ...        0     1     0     0     0     0       0       0   \n",
      "168     0     0  ...        0     0     1     0     0     0       0       0   \n",
      "223     0     0  ...        0     0     0     1     0     0       0       0   \n",
      "217     0     0  ...        1     0     0     0     1     0       0       0   \n",
      "111     0     1  ...        1     0     1     0     0     0       0       0   \n",
      "135     0     0  ...        1     1     0     0     0     0       0       0   \n",
      "218     0     0  ...        0     0     1     0     0     0       0       0   \n",
      "12      1     0  ...        1     1     0     0     0     0       0       0   \n",
      "15      0     1  ...        0     1     0     0     0     0       0       0   \n",
      "66      0     1  ...        0     1     0     0     0     0       0       0   \n",
      "97      0     0  ...        1     0     0     0     1     0       0       0   \n",
      "90      0     1  ...        1     0     0     1     0     0       0       0   \n",
      "198     0     0  ...        0     0     0     1     0     0       0       0   \n",
      "103     0     1  ...        0     1     0     0     0     0       0       0   \n",
      "22      0     0  ...        1     1     0     0     0     0       0       0   \n",
      "212     0     0  ...        0     1     0     0     0     0       0       0   \n",
      "226     1     0  ...        0     0     1     0     0     0       0       0   \n",
      "264     0     0  ...        0     0     1     0     0     0       0       0   \n",
      "133     1     0  ...        1     1     0     0     0     0       0       0   \n",
      "216     0     1  ...        0     0     1     0     0     0       0       0   \n",
      "275     0     0  ...        1     0     0     1     0     0       0       0   \n",
      "270     0     0  ...        1     1     0     0     0     0       0       0   \n",
      "154     0     1  ...        0     1     0     0     0     0       0       0   \n",
      "55      1     0  ...        1     0     1     0     0     0       0       0   \n",
      "..    ...   ...  ...      ...   ...   ...   ...   ...   ...     ...     ...   \n",
      "20      0     0  ...        0     1     0     0     0     0       0       0   \n",
      "46      0     1  ...        1     1     0     0     0     0       0       0   \n",
      "160     1     0  ...        0     1     0     0     0     0       0       0   \n",
      "232     0     0  ...        0     0     1     0     0     0       0       0   \n",
      "181     0     0  ...        0     0     0     0     1     0       0       0   \n",
      "27      0     1  ...        1     1     0     0     0     0       0       0   \n",
      "173     0     1  ...        1     0     0     1     0     0       0       0   \n",
      "261     0     0  ...        1     0     1     0     0     0       0       0   \n",
      "37      0     1  ...        1     1     0     0     0     0       0       0   \n",
      "101     0     0  ...        0     1     0     0     0     0       0       0   \n",
      "166     0     0  ...        0     0     0     1     0     0       0       0   \n",
      "233     0     0  ...        0     0     1     0     0     0       0       0   \n",
      "184     0     0  ...        0     1     0     0     0     0       0       0   \n",
      "164     0     1  ...        1     0     0     0     0     1       0       0   \n",
      "206     0     0  ...        0     0     1     0     0     0       0       0   \n",
      "248     1     0  ...        1     0     1     0     0     0       0       0   \n",
      "253     0     0  ...        0     0     0     1     0     0       0       0   \n",
      "293     0     1  ...        0     1     0     0     0     0       0       0   \n",
      "76      0     1  ...        0     1     0     0     0     0       0       0   \n",
      "272     0     0  ...        0     1     0     0     0     0       0       0   \n",
      "238     0     0  ...        1     0     0     0     1     0       0       0   \n",
      "137     1     0  ...        1     1     0     0     0     0       0       0   \n",
      "106     0     0  ...        0     0     1     0     0     0       0       0   \n",
      "284     0     0  ...        1     0     1     0     0     0       0       0   \n",
      "44      0     1  ...        1     1     0     0     0     0       0       0   \n",
      "139     0     0  ...        0     0     1     0     0     0       0       0   \n",
      "247     1     0  ...        0     0     0     0     1     0       0       1   \n",
      "288     0     0  ...        0     0     1     0     0     0       0       0   \n",
      "156     0     1  ...        1     1     0     0     0     0       0       0   \n",
      "297     0     0  ...        0     0     0     1     0     0       0       1   \n",
      "\n",
      "     thal_2  thal_3  \n",
      "225       0       1  \n",
      "152       0       1  \n",
      "228       0       1  \n",
      "201       0       1  \n",
      "52        0       1  \n",
      "245       0       1  \n",
      "175       0       1  \n",
      "168       0       1  \n",
      "223       0       1  \n",
      "217       0       1  \n",
      "111       0       1  \n",
      "135       1       0  \n",
      "218       0       1  \n",
      "12        1       0  \n",
      "15        1       0  \n",
      "66        1       0  \n",
      "97        0       1  \n",
      "90        1       0  \n",
      "198       0       1  \n",
      "103       0       1  \n",
      "22        1       0  \n",
      "212       0       1  \n",
      "226       0       1  \n",
      "264       1       0  \n",
      "133       1       0  \n",
      "216       0       1  \n",
      "275       0       1  \n",
      "270       0       1  \n",
      "154       1       0  \n",
      "55        1       0  \n",
      "..      ...     ...  \n",
      "20        0       1  \n",
      "46        1       0  \n",
      "160       1       0  \n",
      "232       0       1  \n",
      "181       0       1  \n",
      "27        1       0  \n",
      "173       0       1  \n",
      "261       1       0  \n",
      "37        0       1  \n",
      "101       0       1  \n",
      "166       0       1  \n",
      "233       1       0  \n",
      "184       0       1  \n",
      "164       1       0  \n",
      "206       0       1  \n",
      "248       0       1  \n",
      "253       1       0  \n",
      "293       0       1  \n",
      "76        1       0  \n",
      "272       1       0  \n",
      "238       1       0  \n",
      "137       1       0  \n",
      "106       1       0  \n",
      "284       0       1  \n",
      "44        1       0  \n",
      "139       0       1  \n",
      "247       0       0  \n",
      "288       0       1  \n",
      "156       1       0  \n",
      "297       0       0  \n",
      "\n",
      "[100 rows x 30 columns]\n"
     ]
    }
   ],
   "source": [
    "print(X_test)"
   ]
  },
  {
   "cell_type": "code",
   "execution_count": 35,
   "metadata": {},
   "outputs": [],
   "source": [
    "#K nearest neighbours"
   ]
  },
  {
   "cell_type": "code",
   "execution_count": 36,
   "metadata": {},
   "outputs": [],
   "source": [
    "knn_scores = []\n",
    "for k in range(1,21):\n",
    "    knn_classifier = KNeighborsClassifier(n_neighbors= k)\n",
    "    knn_classifier.fit(X_train, y_train)\n",
    "    knn_scores.append(knn_classifier.score(X_test, y_test))"
   ]
  },
  {
   "cell_type": "code",
   "execution_count": 45,
   "metadata": {},
   "outputs": [
    {
     "data": {
      "image/png": "[encoded data removed]",
      "text/plain": [
       "<Figure size 576x432 with 1 Axes>"
      ]
     },
     "metadata": {
      "needs_background": "light"
     },
     "output_type": "display_data"
    }
   ],
   "source": [
    "plt.plot([k for k in range(1,21)], knn_scores, color = 'red')\n",
    "\n",
    "for i in range(1,21):\n",
    "    plt.text(i, knn_scores[i-1], (i,knn_scores[i-1]))\n",
    "plt.xticks([i for i in range(1,21)])\n",
    "plt.xlabel('Number of Neighbors K')\n",
    "plt.ylabel('Scores')\n",
    "plt.title('K neighbors Classifier scores for different K values')\n",
    "knn_scorex=(max(knn_scores)*100)"
   ]
  },
  {
   "cell_type": "code",
   "execution_count": 47,
   "metadata": {},
   "outputs": [
    {
     "name": "stdout",
     "output_type": "stream",
     "text": [
      "The score for K neighbor is 87.0% with neightbors\n"
     ]
    }
   ],
   "source": [
    "print(f'The score for K neighbor is {knn_scorex}% with neightbors')"
   ]
  },
  {
   "cell_type": "code",
   "execution_count": 48,
   "metadata": {},
   "outputs": [],
   "source": [
    "#svm"
   ]
  },
  {
   "cell_type": "code",
   "execution_count": 52,
   "metadata": {},
   "outputs": [],
   "source": [
    "svc_scores = []\n",
    "\n",
    "kernels = ['linear', 'poly', 'rbf', 'sigmoid']\n",
    "\n",
    "for i in range(len(kernels)):\n",
    "    svc_classifier = SVC(kernel = kernels[i])\n",
    "    svc_classifier.fit(X_train, y_train)\n",
    "    svc_scores.append(svc_classifier.score(X_test, y_test))"
   ]
  },
  {
   "cell_type": "code",
   "execution_count": 54,
   "metadata": {},
   "outputs": [
    {
     "data": {
      "text/plain": [
       "Text(0.5,1,'SVC scores for differnt Kernels')"
      ]
     },
     "execution_count": 54,
     "metadata": {},
     "output_type": "execute_result"
    },
    {
     "data": {
      "image/png": "[encoded data removed]",
      "text/plain": [
       "<Figure size 576x432 with 1 Axes>"
      ]
     },
     "metadata": {
      "needs_background": "light"
     },
     "output_type": "display_data"
    }
   ],
   "source": [
    "colors = rainbow(np.linspace(0,1, len(kernels)))\n",
    "plt.bar(kernels, svc_scores, color = colors)\n",
    "for i in range(len(kernels)):\n",
    "    plt.text(i, svc_scores[i], svc_scores[i])\n",
    "plt.xlabel('Kernels')\n",
    "plt.ylabel('Scores')\n",
    "plt.title('SVC scores for differnt Kernels')"
   ]
  },
  {
   "cell_type": "code",
   "execution_count": 62,
   "metadata": {},
   "outputs": [
    {
     "data": {
      "text/plain": [
       "Text(0.5,1,'SVC scores for differnt Kernels')"
      ]
     },
     "execution_count": 62,
     "metadata": {},
     "output_type": "execute_result"
    },
    {
     "data": {
      "image/png": "[encoded data removed]",
      "text/plain": [
       "<Figure size 576x432 with 1 Axes>"
      ]
     },
     "metadata": {
      "needs_background": "light"
     },
     "output_type": "display_data"
    }
   ],
   "source": [
    "colors = rainbow(np.logspace(0,1, len(kernels)))\n",
    "plt.bar(kernels, svc_scores, color = colors)\n",
    "for i in range(len(kernels)):\n",
    "    plt.text(i, svc_scores[i], svc_scores[i])\n",
    "plt.xlabel('Kernels')\n",
    "plt.ylabel('Scores')\n",
    "plt.title('SVC scores for differnt Kernels')"
   ]
  },
  {
   "cell_type": "code",
   "execution_count": 63,
   "metadata": {},
   "outputs": [],
   "source": [
    "#Decision TRee"
   ]
  },
  {
   "cell_type": "code",
   "execution_count": 67,
   "metadata": {},
   "outputs": [],
   "source": [
    "dt_scores = []\n",
    "\n",
    "for i in range(1, len(X.columns) + 1):\n",
    "    dt_classifier = DecisionTreeClassifier(max_features= i, random_state= 0)\n",
    "    dt_classifier.fit(X_train, y_train)\n",
    "    dt_scores.append(dt_classifier.score(X_test, y_test))"
   ]
  },
  {
   "cell_type": "code",
   "execution_count": 68,
   "metadata": {},
   "outputs": [
    {
     "data": {
      "text/plain": [
       "0.79"
      ]
     },
     "execution_count": 68,
     "metadata": {},
     "output_type": "execute_result"
    },
    {
     "data": {
      "image/png": "[encoded data removed]",
      "text/plain": [
       "<Figure size 576x432 with 1 Axes>"
      ]
     },
     "metadata": {
      "needs_background": "light"
     },
     "output_type": "display_data"
    }
   ],
   "source": [
    "plt.plot([i for i in range(1, len(X.columns)+1)], dt_scores, color = 'green')\n",
    "\n",
    "for i in range(1, len(X.columns)+1):\n",
    "    plt.text(i, dt_scores[i-1], (i, dt_scores[i-1]))\n",
    "plt.xticks([i for i in range(1, len(X.columns)+1)])\n",
    "plt.xlabel('Max Features')\n",
    "plt.ylabel('Scores')\n",
    "plt.title('Decision Tree Classifier scores for different number')\n",
    "max(dt_scores)"
   ]
  },
  {
   "cell_type": "code",
   "execution_count": 69,
   "metadata": {},
   "outputs": [],
   "source": [
    "rf_scores = []\n",
    "estimators = [10, 100, 200, 500, 1000]\n",
    "for i in estimators:\n",
    "    rf_classifier = RandomForestClassifier(n_estimators= i, random_state= 0)\n",
    "    rf_classifier.fit(X_train, y_train)\n",
    "    rf_scores.append(rf_classifier.score(X_test, y_test))"
   ]
  },
  {
   "cell_type": "code",
   "execution_count": 72,
   "metadata": {},
   "outputs": [
    {
     "ename": "AttributeError",
     "evalue": "Unknown property ticks",
     "output_type": "error",
     "traceback": [
      "\u001b[1;31m---------------------------------------------------------------------------\u001b[0m",
      "\u001b[1;31mAttributeError\u001b[0m                            Traceback (most recent call last)",
      "\u001b[1;32m<ipython-input-72-6db9ae7e2cc5>\u001b[0m in \u001b[0;36m<module>\u001b[1;34m\u001b[0m\n\u001b[0;32m      4\u001b[0m \u001b[1;32mfor\u001b[0m \u001b[0mi\u001b[0m \u001b[1;32min\u001b[0m \u001b[0mrange\u001b[0m\u001b[1;33m(\u001b[0m\u001b[0mlen\u001b[0m\u001b[1;33m(\u001b[0m\u001b[0mestimators\u001b[0m\u001b[1;33m)\u001b[0m\u001b[1;33m)\u001b[0m\u001b[1;33m:\u001b[0m\u001b[1;33m\u001b[0m\u001b[1;33m\u001b[0m\u001b[0m\n\u001b[0;32m      5\u001b[0m     \u001b[0mplt\u001b[0m\u001b[1;33m.\u001b[0m\u001b[0mtext\u001b[0m\u001b[1;33m(\u001b[0m\u001b[0mi\u001b[0m\u001b[1;33m,\u001b[0m \u001b[0mrf_scores\u001b[0m\u001b[1;33m[\u001b[0m\u001b[0mi\u001b[0m\u001b[1;33m]\u001b[0m\u001b[1;33m,\u001b[0m \u001b[0mrf_scores\u001b[0m\u001b[1;33m[\u001b[0m\u001b[0mi\u001b[0m\u001b[1;33m]\u001b[0m\u001b[1;33m)\u001b[0m\u001b[1;33m\u001b[0m\u001b[1;33m\u001b[0m\u001b[0m\n\u001b[1;32m----> 6\u001b[1;33m \u001b[0mplt\u001b[0m\u001b[1;33m.\u001b[0m\u001b[0mxticks\u001b[0m\u001b[1;33m(\u001b[0m\u001b[0mticks\u001b[0m \u001b[1;33m=\u001b[0m \u001b[1;33m[\u001b[0m\u001b[0mi\u001b[0m \u001b[1;32mfor\u001b[0m \u001b[0mi\u001b[0m \u001b[1;32min\u001b[0m \u001b[0mrange\u001b[0m\u001b[1;33m(\u001b[0m\u001b[0mlen\u001b[0m\u001b[1;33m(\u001b[0m\u001b[0mestimators\u001b[0m\u001b[1;33m)\u001b[0m\u001b[1;33m)\u001b[0m\u001b[1;33m]\u001b[0m\u001b[1;33m,\u001b[0m \u001b[0mlabels\u001b[0m \u001b[1;33m=\u001b[0m \u001b[1;33m[\u001b[0m\u001b[0mstr\u001b[0m\u001b[1;33m(\u001b[0m\u001b[0mestimators\u001b[0m\u001b[1;33m)\u001b[0m \u001b[1;32mfor\u001b[0m \u001b[0mestimator\u001b[0m \u001b[1;32min\u001b[0m \u001b[0mestimators\u001b[0m\u001b[1;33m]\u001b[0m\u001b[1;33m)\u001b[0m\u001b[1;33m\u001b[0m\u001b[1;33m\u001b[0m\u001b[0m\n\u001b[0m\u001b[0;32m      7\u001b[0m \u001b[0mplt\u001b[0m\u001b[1;33m.\u001b[0m\u001b[0mxlabel\u001b[0m\u001b[1;33m(\u001b[0m\u001b[1;34m'Number of estimators'\u001b[0m\u001b[1;33m)\u001b[0m\u001b[1;33m\u001b[0m\u001b[1;33m\u001b[0m\u001b[0m\n\u001b[0;32m      8\u001b[0m \u001b[0mplt\u001b[0m\u001b[1;33m.\u001b[0m\u001b[0mylabel\u001b[0m\u001b[1;33m(\u001b[0m\u001b[1;34m'Scores'\u001b[0m\u001b[1;33m)\u001b[0m\u001b[1;33m\u001b[0m\u001b[1;33m\u001b[0m\u001b[0m\n",
      "\u001b[1;32m~\\Anaconda3\\lib\\site-packages\\matplotlib\\pyplot.py\u001b[0m in \u001b[0;36mxticks\u001b[1;34m(*args, **kwargs)\u001b[0m\n\u001b[0;32m   1730\u001b[0m     \u001b[1;32mif\u001b[0m \u001b[0mlen\u001b[0m\u001b[1;33m(\u001b[0m\u001b[0mkwargs\u001b[0m\u001b[1;33m)\u001b[0m\u001b[1;33m:\u001b[0m\u001b[1;33m\u001b[0m\u001b[1;33m\u001b[0m\u001b[0m\n\u001b[0;32m   1731\u001b[0m         \u001b[1;32mfor\u001b[0m \u001b[0ml\u001b[0m \u001b[1;32min\u001b[0m \u001b[0mlabels\u001b[0m\u001b[1;33m:\u001b[0m\u001b[1;33m\u001b[0m\u001b[1;33m\u001b[0m\u001b[0m\n\u001b[1;32m-> 1732\u001b[1;33m             \u001b[0ml\u001b[0m\u001b[1;33m.\u001b[0m\u001b[0mupdate\u001b[0m\u001b[1;33m(\u001b[0m\u001b[0mkwargs\u001b[0m\u001b[1;33m)\u001b[0m\u001b[1;33m\u001b[0m\u001b[1;33m\u001b[0m\u001b[0m\n\u001b[0m\u001b[0;32m   1733\u001b[0m \u001b[1;33m\u001b[0m\u001b[0m\n\u001b[0;32m   1734\u001b[0m     \u001b[1;32mreturn\u001b[0m \u001b[0mlocs\u001b[0m\u001b[1;33m,\u001b[0m \u001b[0msilent_list\u001b[0m\u001b[1;33m(\u001b[0m\u001b[1;34m'Text xticklabel'\u001b[0m\u001b[1;33m,\u001b[0m \u001b[0mlabels\u001b[0m\u001b[1;33m)\u001b[0m\u001b[1;33m\u001b[0m\u001b[1;33m\u001b[0m\u001b[0m\n",
      "\u001b[1;32m~\\Anaconda3\\lib\\site-packages\\matplotlib\\text.py\u001b[0m in \u001b[0;36mupdate\u001b[1;34m(self, kwargs)\u001b[0m\n\u001b[0;32m    183\u001b[0m         \u001b[0msentinel\u001b[0m \u001b[1;33m=\u001b[0m \u001b[0mobject\u001b[0m\u001b[1;33m(\u001b[0m\u001b[1;33m)\u001b[0m  \u001b[1;31m# bbox can be None, so use another sentinel.\u001b[0m\u001b[1;33m\u001b[0m\u001b[1;33m\u001b[0m\u001b[0m\n\u001b[0;32m    184\u001b[0m         \u001b[0mbbox\u001b[0m \u001b[1;33m=\u001b[0m \u001b[0mkwargs\u001b[0m\u001b[1;33m.\u001b[0m\u001b[0mpop\u001b[0m\u001b[1;33m(\u001b[0m\u001b[1;34m\"bbox\"\u001b[0m\u001b[1;33m,\u001b[0m \u001b[0msentinel\u001b[0m\u001b[1;33m)\u001b[0m\u001b[1;33m\u001b[0m\u001b[1;33m\u001b[0m\u001b[0m\n\u001b[1;32m--> 185\u001b[1;33m         \u001b[0msuper\u001b[0m\u001b[1;33m(\u001b[0m\u001b[0mText\u001b[0m\u001b[1;33m,\u001b[0m \u001b[0mself\u001b[0m\u001b[1;33m)\u001b[0m\u001b[1;33m.\u001b[0m\u001b[0mupdate\u001b[0m\u001b[1;33m(\u001b[0m\u001b[0mkwargs\u001b[0m\u001b[1;33m)\u001b[0m\u001b[1;33m\u001b[0m\u001b[1;33m\u001b[0m\u001b[0m\n\u001b[0m\u001b[0;32m    186\u001b[0m         \u001b[1;32mif\u001b[0m \u001b[0mbbox\u001b[0m \u001b[1;32mis\u001b[0m \u001b[1;32mnot\u001b[0m \u001b[0msentinel\u001b[0m\u001b[1;33m:\u001b[0m\u001b[1;33m\u001b[0m\u001b[1;33m\u001b[0m\u001b[0m\n\u001b[0;32m    187\u001b[0m             \u001b[0mself\u001b[0m\u001b[1;33m.\u001b[0m\u001b[0mset_bbox\u001b[0m\u001b[1;33m(\u001b[0m\u001b[0mbbox\u001b[0m\u001b[1;33m)\u001b[0m\u001b[1;33m\u001b[0m\u001b[1;33m\u001b[0m\u001b[0m\n",
      "\u001b[1;32m~\\Anaconda3\\lib\\site-packages\\matplotlib\\artist.py\u001b[0m in \u001b[0;36mupdate\u001b[1;34m(self, props)\u001b[0m\n\u001b[0;32m    886\u001b[0m         \u001b[1;32mtry\u001b[0m\u001b[1;33m:\u001b[0m\u001b[1;33m\u001b[0m\u001b[1;33m\u001b[0m\u001b[0m\n\u001b[0;32m    887\u001b[0m             ret = [_update_property(self, k, v)\n\u001b[1;32m--> 888\u001b[1;33m                    for k, v in props.items()]\n\u001b[0m\u001b[0;32m    889\u001b[0m         \u001b[1;32mfinally\u001b[0m\u001b[1;33m:\u001b[0m\u001b[1;33m\u001b[0m\u001b[1;33m\u001b[0m\u001b[0m\n\u001b[0;32m    890\u001b[0m             \u001b[0mself\u001b[0m\u001b[1;33m.\u001b[0m\u001b[0meventson\u001b[0m \u001b[1;33m=\u001b[0m \u001b[0mstore\u001b[0m\u001b[1;33m\u001b[0m\u001b[1;33m\u001b[0m\u001b[0m\n",
      "\u001b[1;32m~\\Anaconda3\\lib\\site-packages\\matplotlib\\artist.py\u001b[0m in \u001b[0;36m<listcomp>\u001b[1;34m(.0)\u001b[0m\n\u001b[0;32m    886\u001b[0m         \u001b[1;32mtry\u001b[0m\u001b[1;33m:\u001b[0m\u001b[1;33m\u001b[0m\u001b[1;33m\u001b[0m\u001b[0m\n\u001b[0;32m    887\u001b[0m             ret = [_update_property(self, k, v)\n\u001b[1;32m--> 888\u001b[1;33m                    for k, v in props.items()]\n\u001b[0m\u001b[0;32m    889\u001b[0m         \u001b[1;32mfinally\u001b[0m\u001b[1;33m:\u001b[0m\u001b[1;33m\u001b[0m\u001b[1;33m\u001b[0m\u001b[0m\n\u001b[0;32m    890\u001b[0m             \u001b[0mself\u001b[0m\u001b[1;33m.\u001b[0m\u001b[0meventson\u001b[0m \u001b[1;33m=\u001b[0m \u001b[0mstore\u001b[0m\u001b[1;33m\u001b[0m\u001b[1;33m\u001b[0m\u001b[0m\n",
      "\u001b[1;32m~\\Anaconda3\\lib\\site-packages\\matplotlib\\artist.py\u001b[0m in \u001b[0;36m_update_property\u001b[1;34m(self, k, v)\u001b[0m\n\u001b[0;32m    879\u001b[0m                 \u001b[0mfunc\u001b[0m \u001b[1;33m=\u001b[0m \u001b[0mgetattr\u001b[0m\u001b[1;33m(\u001b[0m\u001b[0mself\u001b[0m\u001b[1;33m,\u001b[0m \u001b[1;34m'set_'\u001b[0m \u001b[1;33m+\u001b[0m \u001b[0mk\u001b[0m\u001b[1;33m,\u001b[0m \u001b[1;32mNone\u001b[0m\u001b[1;33m)\u001b[0m\u001b[1;33m\u001b[0m\u001b[1;33m\u001b[0m\u001b[0m\n\u001b[0;32m    880\u001b[0m                 \u001b[1;32mif\u001b[0m \u001b[1;32mnot\u001b[0m \u001b[0mcallable\u001b[0m\u001b[1;33m(\u001b[0m\u001b[0mfunc\u001b[0m\u001b[1;33m)\u001b[0m\u001b[1;33m:\u001b[0m\u001b[1;33m\u001b[0m\u001b[1;33m\u001b[0m\u001b[0m\n\u001b[1;32m--> 881\u001b[1;33m                     \u001b[1;32mraise\u001b[0m \u001b[0mAttributeError\u001b[0m\u001b[1;33m(\u001b[0m\u001b[1;34m'Unknown property %s'\u001b[0m \u001b[1;33m%\u001b[0m \u001b[0mk\u001b[0m\u001b[1;33m)\u001b[0m\u001b[1;33m\u001b[0m\u001b[1;33m\u001b[0m\u001b[0m\n\u001b[0m\u001b[0;32m    882\u001b[0m                 \u001b[1;32mreturn\u001b[0m \u001b[0mfunc\u001b[0m\u001b[1;33m(\u001b[0m\u001b[0mv\u001b[0m\u001b[1;33m)\u001b[0m\u001b[1;33m\u001b[0m\u001b[1;33m\u001b[0m\u001b[0m\n\u001b[0;32m    883\u001b[0m \u001b[1;33m\u001b[0m\u001b[0m\n",
      "\u001b[1;31mAttributeError\u001b[0m: Unknown property ticks"
     ]
    },
    {
     "data": {
      "image/png": "[encoded data removed]",
      "text/plain": [
       "<Figure size 576x432 with 1 Axes>"
      ]
     },
     "metadata": {
      "needs_background": "light"
     },
     "output_type": "display_data"
    }
   ],
   "source": [
    "colors = rainbow(np.linspace(0, 1, len(estimators)))\n",
    "plt.bar([i for i in range(len(estimators))], rf_scores, color = colors)\n",
    "\n",
    "for i in range(len(estimators)):\n",
    "    plt.text(i, rf_scores[i], rf_scores[i])\n",
    "plt.xticks(ticks = [i for i in range(len(estimators))], labels = [str(estimators) for estimator in estimators])\n",
    "plt.xlabel('Number of estimators')\n",
    "plt.ylabel('Scores')\n",
    "plt.title('Random Forest Classifier for different numbers')\n"
   ]
  },
  {
   "cell_type": "code",
   "execution_count": null,
   "metadata": {},
   "outputs": [],
   "source": []
  }
 ],
 "metadata": {
  "kernelspec": {
   "display_name": "Python 3",
   "language": "python",
   "name": "python3"
  },
  "language_info": {
   "codemirror_mode": {
    "name": "ipython",
    "version": 3
   },
   "file_extension": ".py",
   "mimetype": "text/x-python",
   "name": "python",
   "nbconvert_exporter": "python",
   "pygments_lexer": "ipython3",
   "version": "3.7.1"
  }
 },
 "nbformat": 4,
 "nbformat_minor": 2
}
